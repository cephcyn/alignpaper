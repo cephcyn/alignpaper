{
 "cells": [
  {
   "cell_type": "markdown",
   "id": "assumed-tunnel",
   "metadata": {},
   "source": [
    "# Info\n",
    "\n",
    "Run this file before any others, it sets up the model(s) used and finetunes them on data if appropriate\n",
    "\n",
    "Models from https://github.com/RaRe-Technologies/gensim-data"
   ]
  },
  {
   "cell_type": "markdown",
   "id": "stock-bulgaria",
   "metadata": {},
   "source": [
    "## Word2Vec"
   ]
  },
  {
   "cell_type": "markdown",
   "id": "supposed-immunology",
   "metadata": {},
   "source": [
    "### Pretrained"
   ]
  },
  {
   "cell_type": "code",
   "execution_count": null,
   "id": "lightweight-thanks",
   "metadata": {},
   "outputs": [],
   "source": [
    "import gensim\n",
    "import gensim.downloader as api\n",
    "\n",
    "# Load pretrained model \n",
    "word2vec_fullmodel = api.load('word2vec-google-news-300')"
   ]
  },
  {
   "cell_type": "code",
   "execution_count": null,
   "id": "fixed-supply",
   "metadata": {},
   "outputs": [],
   "source": [
    "# Dump state and KeyedVectors quick access mapping\n",
    "word2vec_fullmodel.save('model/word2vec-google-news-300.model')"
   ]
  },
  {
   "cell_type": "code",
   "execution_count": null,
   "id": "brief-wealth",
   "metadata": {},
   "outputs": [],
   "source": [
    "del word2vec_fullmodel"
   ]
  },
  {
   "cell_type": "markdown",
   "id": "violent-development",
   "metadata": {},
   "source": [
    "### Finetuned"
   ]
  },
  {
   "cell_type": "markdown",
   "id": "mexican-sheffield",
   "metadata": {},
   "source": [
    "## FastText"
   ]
  },
  {
   "cell_type": "markdown",
   "id": "defensive-karma",
   "metadata": {},
   "source": [
    "### Pretrained"
   ]
  },
  {
   "cell_type": "code",
   "execution_count": null,
   "id": "angry-elizabeth",
   "metadata": {},
   "outputs": [],
   "source": [
    "import gensim\n",
    "import gensim.downloader as api\n",
    "\n",
    "# Load pretrained model\n",
    "fasttext_fullmodel = api.load('fasttext-wiki-news-subwords-300')"
   ]
  },
  {
   "cell_type": "code",
   "execution_count": null,
   "id": "single-republic",
   "metadata": {},
   "outputs": [],
   "source": [
    "# Dump state and KeyedVectors quick access mapping\n",
    "fasttext_fullmodel.save('model/fasttext-wiki-news-subwords-300.model')"
   ]
  },
  {
   "cell_type": "markdown",
   "id": "rational-congress",
   "metadata": {},
   "source": [
    "### Finetuned"
   ]
  },
  {
   "cell_type": "code",
   "execution_count": null,
   "id": "continent-salvation",
   "metadata": {},
   "outputs": [],
   "source": []
  }
 ],
 "metadata": {
  "kernelspec": {
   "display_name": "Python 3",
   "language": "python",
   "name": "python3"
  },
  "language_info": {
   "codemirror_mode": {
    "name": "ipython",
    "version": 3
   },
   "file_extension": ".py",
   "mimetype": "text/x-python",
   "name": "python",
   "nbconvert_exporter": "python",
   "pygments_lexer": "ipython3",
   "version": "3.8.5"
  }
 },
 "nbformat": 4,
 "nbformat_minor": 5
}
