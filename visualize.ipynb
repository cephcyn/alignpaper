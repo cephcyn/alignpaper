{
 "cells": [
  {
   "cell_type": "code",
   "execution_count": null,
   "metadata": {},
   "outputs": [],
   "source": [
    "import altair as alt\n",
    "import pandas as pd\n",
    "\n",
    "# https://altair-viz.github.io/gallery/simple_bar_chart.html\n",
    "source = pd.DataFrame({\n",
    "    'a': ['A', 'B', 'C', 'D', 'E', 'F', 'G', 'H', 'I'],\n",
    "    'b': [28, 55, 43, 91, 81, 53, 19, 87, 52]\n",
    "})\n",
    "\n",
    "alt.Chart(source).mark_bar().encode(\n",
    "    x='a',\n",
    "    y='b'\n",
    ")"
   ]
  },
  {
   "cell_type": "code",
   "execution_count": null,
   "metadata": {},
   "outputs": [],
   "source": [
    "import pandas as pd\n",
    "import numpy as np\n",
    "pd.set_option(\"display.max_rows\", None)"
   ]
  },
  {
   "cell_type": "code",
   "execution_count": null,
   "metadata": {},
   "outputs": [],
   "source": [
    "# inheriting usage notes from my other code for now (not self-plagiarization)\n",
    "# https://github.com/cephcyn/cse517project/blob/master/embed_w2v.py\n",
    "# for word2vec code; see also word2vec documentation\n",
    "import gensim\n",
    "\n",
    "# Load Google's pre-trained Word2Vec model.\n",
    "# model source: https://code.google.com/archive/p/word2vec/\n",
    "model = gensim.models.KeyedVectors.load_word2vec_format('model/GoogleNews-vectors-negative300.bin', binary=True)"
   ]
  },
  {
   "cell_type": "code",
   "execution_count": null,
   "metadata": {},
   "outputs": [],
   "source": [
    "def get_phrase_vector(phrase):\n",
    "    try:\n",
    "        phraseS = phrase.split()\n",
    "    except:\n",
    "        return pd.DataFrame()\n",
    "    unknowns = []\n",
    "    emb = []\n",
    "    for w in phraseS:\n",
    "        try:\n",
    "            emb.append(model[w])\n",
    "        except:\n",
    "            unknowns.append(w)\n",
    "    if len(emb) == 0:\n",
    "        return pd.DataFrame()\n",
    "    emb_sum = pd.DataFrame(emb).sum()\n",
    "    emb_sum['word'] = phrase\n",
    "    return pd.DataFrame([emb_sum])\n",
    "\n",
    "v = get_phrase_vector('test phrase')\n",
    "v"
   ]
  },
  {
   "cell_type": "code",
   "execution_count": null,
   "metadata": {},
   "outputs": [],
   "source": [
    "search_word = 'BERT'\n",
    "anchor_type = 'coreference'\n",
    "\n",
    "csv = pd.read_csv(f'outputs/{search_word}/{anchor_type}.csv')\n",
    "#csv"
   ]
  },
  {
   "cell_type": "code",
   "execution_count": null,
   "metadata": {},
   "outputs": [],
   "source": [
    "output = csv.groupby(csv.index, group_keys=False).apply(\n",
    "    lambda group: get_phrase_vector(group.iloc[0]['averb'])\n",
    ").reset_index(drop=True)\n",
    "output"
   ]
  },
  {
   "cell_type": "code",
   "execution_count": null,
   "metadata": {},
   "outputs": [],
   "source": [
    "# Centroid is the arithmetic mean position of all points in the figure\n",
    "output_centroid = pd.DataFrame([np.mean(output.iloc[:, 0:300])])\n",
    "output_centroid['word'] = \"[CENTROID]\"\n",
    "output_centroid"
   ]
  },
  {
   "cell_type": "code",
   "execution_count": null,
   "metadata": {},
   "outputs": [],
   "source": [
    "# Visualize the vectors\n",
    "# loaned from :\n",
    "# https://github.com/cephcyn/ChatlogGrapher/blob/master/data_processing.ipynb\n",
    "\n",
    "from sklearn.preprocessing import StandardScaler\n",
    "from sklearn.decomposition import PCA\n",
    "import altair as alt\n",
    "alt.renderers.enable('default')\n",
    "\n",
    "def visualize_embeds(data):\n",
    "    x = data.iloc[:, 0:300]\n",
    "    x = StandardScaler().fit_transform(x)\n",
    "\n",
    "    pca = PCA(n_components=2)\n",
    "    principalComponents = pca.fit_transform(x)\n",
    "    principalDf = pd.DataFrame(data=principalComponents,\n",
    "                               columns = ['pc1', 'pc2'])\n",
    "\n",
    "    finalDf = pd.concat([principalDf, \n",
    "                         data['word']],\n",
    "                        axis = 1)\n",
    "\n",
    "    return alt.Chart(finalDf).mark_circle(size=60).encode(\n",
    "        x='pc1',\n",
    "        y='pc2',\n",
    "#         color='type',\n",
    "        tooltip=['word']\n",
    "    ).interactive()\n",
    "\n",
    "# visualize_embeds(pd.concat([output, output_centroid]).reset_index())\n",
    "visualize_embeds(output)"
   ]
  },
  {
   "cell_type": "code",
   "execution_count": null,
   "metadata": {},
   "outputs": [],
   "source": [
    "# https://github.com/cephcyn/ChatlogGrapher/blob/master/data_processing.ipynb\n",
    "# for cosine similarity; see also sklearn documentation\n",
    "from sklearn.metrics.pairwise import cosine_similarity\n",
    "\n",
    "# Compute a distance metric column from some origin phrase and given some column name to calculate diff of\n",
    "def distance_word2vec(row, origin, colname):\n",
    "    try:\n",
    "        sim = cosine_similarity(get_phrase_vector(origin), get_phrase_vector(row[colname]))[0][0]\n",
    "    except:\n",
    "        sim = -1\n",
    "    return dict(zip(['distance'], [sim]))\n",
    "\n",
    "base_averb = 'encodes'\n",
    "output = csv.apply(\n",
    "    lambda row: distance_word2vec(row, base_averb, 'averb'), \n",
    "    axis=1, result_type='expand')\n",
    "\n",
    "output = csv.join(output).sort_values(by=['distance'], ascending=False)\n",
    "output.to_csv(f'temp/BERT_similarity_encodes.csv')\n",
    "output"
   ]
  },
  {
   "cell_type": "code",
   "execution_count": null,
   "metadata": {},
   "outputs": [],
   "source": []
  }
 ],
 "metadata": {
  "kernelspec": {
   "display_name": "Python 3",
   "language": "python",
   "name": "python3"
  },
  "language_info": {
   "codemirror_mode": {
    "name": "ipython",
    "version": 3
   },
   "file_extension": ".py",
   "mimetype": "text/x-python",
   "name": "python",
   "nbconvert_exporter": "python",
   "pygments_lexer": "ipython3",
   "version": "3.8.3"
  }
 },
 "nbformat": 4,
 "nbformat_minor": 4
}
