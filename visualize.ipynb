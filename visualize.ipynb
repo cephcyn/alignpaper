{
 "cells": [
  {
   "cell_type": "code",
   "execution_count": null,
   "metadata": {},
   "outputs": [],
   "source": [
    "import altair as alt\n",
    "import pandas as pd\n",
    "\n",
    "# https://altair-viz.github.io/gallery/simple_bar_chart.html\n",
    "source = pd.DataFrame({\n",
    "    'a': ['A', 'B', 'C', 'D', 'E', 'F', 'G', 'H', 'I'],\n",
    "    'b': [28, 55, 43, 91, 81, 53, 19, 87, 52]\n",
    "})\n",
    "\n",
    "alt.Chart(source).mark_bar().encode(\n",
    "    x='a',\n",
    "    y='b'\n",
    ")"
   ]
  },
  {
   "cell_type": "code",
   "execution_count": null,
   "metadata": {},
   "outputs": [],
   "source": [
    "import pandas as pd\n",
    "import numpy as np\n",
    "pd.set_option(\"display.max_rows\", None)"
   ]
  },
  {
   "cell_type": "code",
   "execution_count": null,
   "metadata": {},
   "outputs": [],
   "source": [
    "# inheriting usage notes from my other code for now (not self-plagiarization)\n",
    "# https://github.com/cephcyn/cse517project/blob/master/embed_w2v.py\n",
    "# for word2vec code; see also word2vec documentation\n",
    "import gensim\n",
    "\n",
    "# Load Google's pre-trained Word2Vec model.\n",
    "# model source: https://code.google.com/archive/p/word2vec/\n",
    "model = gensim.models.KeyedVectors.load_word2vec_format('model/GoogleNews-vectors-negative300.bin', binary=True)"
   ]
  },
  {
   "cell_type": "code",
   "execution_count": null,
   "metadata": {},
   "outputs": [],
   "source": [
    "# Get the word2vec embedding of a phrase\n",
    "def get_phrase_embed_word2vec(phrase):\n",
    "    try:\n",
    "        phraseS = phrase.split()\n",
    "    except:\n",
    "        return pd.DataFrame()\n",
    "    unknowns = []\n",
    "    emb = []\n",
    "    for w in phraseS:\n",
    "        try:\n",
    "            emb.append(model[w])\n",
    "        except:\n",
    "            unknowns.append(w)\n",
    "    if len(emb) == 0:\n",
    "        return pd.DataFrame()\n",
    "    emb_sum = pd.DataFrame(emb).sum()\n",
    "    emb_sum['word'] = phrase\n",
    "    return pd.DataFrame([emb_sum])\n",
    "\n",
    "v = get_phrase_embed_word2vec('test phrase')\n",
    "v"
   ]
  },
  {
   "cell_type": "code",
   "execution_count": null,
   "metadata": {},
   "outputs": [],
   "source": [
    "import spacy\n",
    "from spacy.lang.en import English\n",
    "from spacy import displacy\n",
    "\n",
    "#OPTIONAL - to disable outputs from Tensorflow\n",
    "import logging\n",
    "logging.getLogger('tensorflow').disabled = True\n",
    "\n",
    "!python -m spacy download en_core_web_md\n",
    "nlp = spacy.load('en_core_web_md')\n",
    "\n",
    "# Load ELMo model\n",
    "import tensorflow.compat.v1 as tf\n",
    "tf.compat.v1.disable_eager_execution()\n",
    "import tensorflow_hub as hub\n",
    "\n",
    "url = \"https://tfhub.dev/google/elmo/2\"\n",
    "elmo = hub.Module(url)"
   ]
  },
  {
   "cell_type": "code",
   "execution_count": null,
   "metadata": {},
   "outputs": [],
   "source": [
    "# Get the ELMo embedding of a phrase (with given span limits)\n",
    "def get_phrase_embed_elmo(elmo, sentence, span0, span1, phrase):\n",
    "    try:\n",
    "        # TODO make the NaN / none case neater?\n",
    "        phraseS = phrase.split()\n",
    "        span0 = int(span0)\n",
    "        span1 = int(span1)\n",
    "    except:\n",
    "        return pd.DataFrame()\n",
    "    span0 = len(sentence[:span0].split(' ')) - 1\n",
    "    span1 = len(sentence[:span1].split(' ')) - 1\n",
    "    embeddings = elmo([sentence], \n",
    "                      signature='default', \n",
    "                      as_dict=True)['elmo']\n",
    "    with tf.Session() as sess:\n",
    "        sess.run(tf.global_variables_initializer())\n",
    "        sess.run(tf.tables_initializer())\n",
    "        x = sess.run(embeddings)\n",
    "    emb_sum = pd.DataFrame(x[0][span0:span1]).sum()\n",
    "    emb_sum['word'] = phrase\n",
    "    return pd.DataFrame([emb_sum])\n",
    "\n",
    "v = get_phrase_embed_elmo(elmo, \n",
    "                          'This is a test sentence !',\n",
    "                          10, 24, 'test sentence')\n",
    "v"
   ]
  },
  {
   "cell_type": "code",
   "execution_count": null,
   "metadata": {},
   "outputs": [],
   "source": [
    "search_word = 'BERT'\n",
    "anchor_type = 'coreference'\n",
    "\n",
    "csv = pd.read_csv(f'outputs/{search_word}/{anchor_type}.csv')\n",
    "csv"
   ]
  },
  {
   "cell_type": "code",
   "execution_count": null,
   "metadata": {},
   "outputs": [],
   "source": [
    "output_w2v = csv.groupby(csv.index, group_keys=False).apply(\n",
    "    lambda group: get_phrase_embed_word2vec(group.iloc[0]['averb'])\n",
    ").reset_index(drop=True)\n",
    "output_w2v"
   ]
  },
  {
   "cell_type": "code",
   "execution_count": null,
   "metadata": {},
   "outputs": [],
   "source": [
    "# Centroid is the arithmetic mean position of all points in the figure\n",
    "output_w2v_c = pd.DataFrame([np.mean(output_w2v.iloc[:, 0:300])])\n",
    "output_w2v_c['word'] = \"[CENTROID]\"\n",
    "output_w2v_c"
   ]
  },
  {
   "cell_type": "code",
   "execution_count": null,
   "metadata": {},
   "outputs": [],
   "source": [
    "import ast\n",
    "\n",
    "output_elmo = csv.groupby(csv.index, group_keys=False).apply(\n",
    "    lambda group: get_phrase_embed_elmo(elmo,\n",
    "                                        ' '.join(ast.literal_eval(group.iloc[0]['split_tokens'])),\n",
    "                                        group.iloc[0]['averb_span0'],\n",
    "                                        group.iloc[0]['averb_span1'],\n",
    "                                        group.iloc[0]['averb'])\n",
    ").reset_index(drop=True)\n",
    "output_elmo"
   ]
  },
  {
   "cell_type": "code",
   "execution_count": null,
   "metadata": {},
   "outputs": [],
   "source": [
    "# Centroid is the arithmetic mean position of all points in the figure\n",
    "output_elmo_c = pd.DataFrame([np.mean(output_elmo.iloc[:, 0:300])])\n",
    "output_elmo_c['word'] = \"[CENTROID]\"\n",
    "output_elmo_c"
   ]
  },
  {
   "cell_type": "code",
   "execution_count": null,
   "metadata": {},
   "outputs": [],
   "source": [
    "output_elmo.to_pickle(f'temp/BERT_anchorverb_elmo.pkl')\n",
    "output_elmo = pd.read_pickle(f'temp/BERT_anchorverb_elmo.pkl')"
   ]
  },
  {
   "cell_type": "code",
   "execution_count": null,
   "metadata": {},
   "outputs": [],
   "source": [
    "# Visualize the vectors\n",
    "# loaned from :\n",
    "# https://github.com/cephcyn/ChatlogGrapher/blob/master/data_processing.ipynb\n",
    "\n",
    "from sklearn.preprocessing import StandardScaler\n",
    "from sklearn.decomposition import PCA\n",
    "import altair as alt\n",
    "alt.renderers.enable('default')\n",
    "\n",
    "def visualize_embeds(data):\n",
    "    x = data.iloc[:, 0:300]\n",
    "    x = StandardScaler().fit_transform(x)\n",
    "\n",
    "    pca = PCA(n_components=2)\n",
    "    principalComponents = pca.fit_transform(x)\n",
    "    principalDf = pd.DataFrame(data=principalComponents,\n",
    "                               columns = ['pc1', 'pc2'])\n",
    "\n",
    "    finalDf = pd.concat([principalDf, \n",
    "                         data['word']],\n",
    "                        axis = 1)\n",
    "\n",
    "    return alt.Chart(finalDf).mark_circle(size=60).encode(\n",
    "        x='pc1',\n",
    "        y='pc2',\n",
    "#         color='type',\n",
    "        tooltip=['word']\n",
    "    ).interactive()\n",
    "\n",
    "# visualize_embeds(pd.concat([output_w2v, output_w2v_c]).reset_index())\n",
    "visualize_embeds(output_w2v)"
   ]
  },
  {
   "cell_type": "code",
   "execution_count": null,
   "metadata": {},
   "outputs": [],
   "source": [
    "visualize_embeds(output_elmo)"
   ]
  },
  {
   "cell_type": "code",
   "execution_count": null,
   "metadata": {},
   "outputs": [],
   "source": [
    "# https://github.com/cephcyn/ChatlogGrapher/blob/master/data_processing.ipynb\n",
    "# for cosine similarity; see also sklearn documentation\n",
    "from sklearn.metrics.pairwise import cosine_similarity\n",
    "\n",
    "# Compute a distance metric column from some origin phrase and given some column name to calculate diff of\n",
    "def distance_word2vec(row, origin, colname):\n",
    "    try:\n",
    "        sim = cosine_similarity(get_phrase_vector(origin), get_phrase_vector(row[colname]))[0][0]\n",
    "    except:\n",
    "        sim = -1\n",
    "    return dict(zip(['distance'], [sim]))\n",
    "\n",
    "base_averb = 'encodes'\n",
    "output = csv.apply(\n",
    "    lambda row: distance_word2vec(row, base_averb, 'averb'), \n",
    "    axis=1, result_type='expand')\n",
    "\n",
    "output = csv.join(output).sort_values(by=['distance'], ascending=False)\n",
    "output.to_csv(f'temp/BERT_similarity_encodes.csv')\n",
    "output"
   ]
  },
  {
   "cell_type": "code",
   "execution_count": null,
   "metadata": {},
   "outputs": [],
   "source": []
  }
 ],
 "metadata": {
  "kernelspec": {
   "display_name": "Python 3",
   "language": "python",
   "name": "python3"
  },
  "language_info": {
   "codemirror_mode": {
    "name": "ipython",
    "version": 3
   },
   "file_extension": ".py",
   "mimetype": "text/x-python",
   "name": "python",
   "nbconvert_exporter": "python",
   "pygments_lexer": "ipython3",
   "version": "3.8.3"
  }
 },
 "nbformat": 4,
 "nbformat_minor": 4
}
