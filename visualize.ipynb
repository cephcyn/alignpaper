{
 "cells": [
  {
   "cell_type": "code",
   "execution_count": null,
   "metadata": {},
   "outputs": [],
   "source": [
    "import altair as alt\n",
    "import pandas as pd\n",
    "\n",
    "# https://altair-viz.github.io/gallery/simple_bar_chart.html\n",
    "source = pd.DataFrame({\n",
    "    'a': ['A', 'B', 'C', 'D', 'E', 'F', 'G', 'H', 'I'],\n",
    "    'b': [28, 55, 43, 91, 81, 53, 19, 87, 52]\n",
    "})\n",
    "\n",
    "alt.Chart(source).mark_bar().encode(\n",
    "    x='a',\n",
    "    y='b'\n",
    ")"
   ]
  },
  {
   "cell_type": "code",
   "execution_count": null,
   "metadata": {},
   "outputs": [],
   "source": [
    "import pandas as pd\n",
    "pd.set_option(\"display.max_rows\", None)"
   ]
  },
  {
   "cell_type": "code",
   "execution_count": null,
   "metadata": {},
   "outputs": [],
   "source": [
    "# inheriting usage notes from my other code for now (not self-plagiarization)\n",
    "# https://github.com/cephcyn/cse517project/blob/master/embed_w2v.py\n",
    "# for word2vec code; see also word2vec documentation\n",
    "import gensim\n",
    "\n",
    "# Load Google's pre-trained Word2Vec model.\n",
    "# model source: https://code.google.com/archive/p/word2vec/\n",
    "model = gensim.models.KeyedVectors.load_word2vec_format('model/GoogleNews-vectors-negative300.bin', binary=True)"
   ]
  },
  {
   "cell_type": "code",
   "execution_count": null,
   "metadata": {},
   "outputs": [],
   "source": [
    "def get_phrase_vector(phrase):\n",
    "    try:\n",
    "        phrase = phrase.split()\n",
    "    except:\n",
    "        return pd.DataFrame()\n",
    "    unknowns = []\n",
    "    emb = []\n",
    "    for w in phrase:\n",
    "        try:\n",
    "            emb.append(model[w])\n",
    "        except:\n",
    "            unknowns.append(w)\n",
    "    emb_sum = pd.DataFrame(emb).sum()\n",
    "    return pd.DataFrame([emb_sum])\n",
    "\n",
    "v = get_phrase_vector('hi')\n",
    "v"
   ]
  },
  {
   "cell_type": "code",
   "execution_count": null,
   "metadata": {},
   "outputs": [],
   "source": [
    "search_word = 'BERT'\n",
    "anchor_type = 'coreference'\n",
    "\n",
    "csv = pd.read_csv(f'outputs/{search_word}/{anchor_type}.csv')\n",
    "#csv"
   ]
  },
  {
   "cell_type": "code",
   "execution_count": null,
   "metadata": {},
   "outputs": [],
   "source": [
    "output = csv.groupby(csv.index, group_keys=False).apply(\n",
    "    lambda group: get_phrase_vector(group.iloc[0]['averb'])\n",
    ").reset_index(drop=True)\n",
    "output"
   ]
  },
  {
   "cell_type": "code",
   "execution_count": null,
   "metadata": {},
   "outputs": [],
   "source": [
    "# Visualize the vectors\n",
    "# loaned from :\n",
    "# https://github.com/cephcyn/ChatlogGrapher/blob/master/data_processing.ipynb\n",
    "\n",
    "from sklearn.preprocessing import StandardScaler\n",
    "from sklearn.decomposition import PCA\n",
    "import altair as alt\n",
    "alt.renderers.enable('default')\n",
    "\n",
    "def visualize_embeds(data):\n",
    "    x = data\n",
    "    x = StandardScaler().fit_transform(x)\n",
    "\n",
    "    pca = PCA(n_components=2)\n",
    "    principalComponents = pca.fit_transform(x)\n",
    "    principalDf = pd.DataFrame(data=principalComponents,\n",
    "                               columns = ['pc1', 'pc2'])\n",
    "\n",
    "    finalDf = principalDf\n",
    "#     finalDf = pd.concat([principalDf, \n",
    "#                          pd.DataFrame(sen_top_bow.keys()).rename(columns={0:'name'})],\n",
    "#                         axis = 1)\n",
    "\n",
    "    return alt.Chart(finalDf).mark_circle(size=60).encode(\n",
    "        x='pc1',\n",
    "        y='pc2',\n",
    "#         color='type',\n",
    "#         tooltip=['name']\n",
    "    ).interactive()\n",
    "\n",
    "visualize_embeds(output)"
   ]
  },
  {
   "cell_type": "code",
   "execution_count": null,
   "metadata": {},
   "outputs": [],
   "source": []
  }
 ],
 "metadata": {
  "kernelspec": {
   "display_name": "Python 3",
   "language": "python",
   "name": "python3"
  },
  "language_info": {
   "codemirror_mode": {
    "name": "ipython",
    "version": 3
   },
   "file_extension": ".py",
   "mimetype": "text/x-python",
   "name": "python",
   "nbconvert_exporter": "python",
   "pygments_lexer": "ipython3",
   "version": "3.8.3"
  }
 },
 "nbformat": 4,
 "nbformat_minor": 4
}
