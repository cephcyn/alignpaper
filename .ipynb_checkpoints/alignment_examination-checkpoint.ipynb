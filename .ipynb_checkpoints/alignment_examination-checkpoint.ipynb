{
 "cells": [
  {
   "cell_type": "code",
   "execution_count": null,
   "id": "conventional-people",
   "metadata": {},
   "outputs": [],
   "source": [
    "from IPython.core.interactiveshell import InteractiveShell\n",
    "InteractiveShell.ast_node_interactivity = \"all\""
   ]
  },
  {
   "cell_type": "code",
   "execution_count": null,
   "id": "hydraulic-humidity",
   "metadata": {},
   "outputs": [],
   "source": [
    "import pandas as pd\n",
    "pd.set_option(\"display.max_rows\", None)\n",
    "pd.set_option('display.max_columns', None)\n",
    "\n",
    "import pickle"
   ]
  },
  {
   "cell_type": "code",
   "execution_count": null,
   "id": "pleasant-attendance",
   "metadata": {},
   "outputs": [],
   "source": [
    "def extractTup(data, tup_i=0, is_frame=True):\n",
    "    types = {\n",
    "        'segment': 0,\n",
    "        'pos': 1,\n",
    "        'cpos': 2\n",
    "    }\n",
    "    if tup_i in types:\n",
    "        tup_i = types[tup_i]\n",
    "    else:\n",
    "        raise ValueError(f'tup_i not in types: {types.keys()}')\n",
    "    if is_frame:\n",
    "        return data.applymap(lambda x: x[tup_i])\n",
    "    else:\n",
    "        return data.map(lambda x: x[tup_i])"
   ]
  },
  {
   "cell_type": "markdown",
   "id": "cooked-novelty",
   "metadata": {},
   "source": [
    "# list out search process"
   ]
  },
  {
   "cell_type": "code",
   "execution_count": null,
   "id": "hourly-render",
   "metadata": {},
   "outputs": [],
   "source": [
    "# temp_search_x = pickle.load(open('temp/search_temp_colcount-shiftonly-a.pkl', 'rb'))\n",
    "temp_search_x = pickle.load(open('temp/search_temp_covtraceembed-shiftonly-a.pkl', 'rb'))\n",
    "# temp_search_x = pickle.load(open('temp/search_temp_termcolcount-shiftonly-a.pkl', 'rb'))\n",
    "output_alignmentstate, output_alignmentop, output_alignmentopset, output_alignmentopmode, output_alignmentscore, \\\n",
    "        output_alignmentscorecomponents, output_alignmentscoreraw, output_hyperparams = temp_search_x\n",
    "\n",
    "print('===   assert sanity   ===')\n",
    "print()\n",
    "\n",
    "print('all of these should be the same:')\n",
    "print(len(output_alignmentstate), len(output_alignmentop), len(output_alignmentopset), len(output_alignmentopmode), len(output_alignmentscore))\n",
    "\n",
    "print()\n",
    "print('=== search algorithm! ===')\n",
    "print()\n",
    "\n",
    "output_hyperparams\n",
    "print()\n",
    "print(f'score components: [numcolumns  colptxtembed  coltoknvarcount  colttuivarcount  termcolcount]')\n",
    "print()\n",
    "for i in range(len(output_alignmentop)):\n",
    "    print(f'step {i}: {output_alignmentopmode[i]}')\n",
    "    print(f'    performed op: {output_alignmentop[i]}, out of {len(output_alignmentopset[i])} valid op(s)')\n",
    "    print(f'    result score: {output_alignmentscore[i]}')\n",
    "    print(f'    components: {output_alignmentscorecomponents[i]}')\n",
    "    extractTup(output_alignmentstate[i], tup_i='segment').append(output_alignmentscoreraw[i])\n",
    "#     output_alignmentstate[i].append(output_alignmentscoreraw[i])"
   ]
  },
  {
   "cell_type": "markdown",
   "id": "presidential-romance",
   "metadata": {},
   "source": [
    "# print out an alignment in spreadsheet format"
   ]
  },
  {
   "cell_type": "code",
   "execution_count": null,
   "id": "strong-ground",
   "metadata": {},
   "outputs": [],
   "source": [
    "def spreadsheetFormat(alignment_df):\n",
    "    alignment_df = alignment_df.sort_index()\n",
    "    alignment_pos = extractTup(alignment_df, tup_i='cpos') # the token part of speech\n",
    "    alignment_segment = extractTup(alignment_df, tup_i='segment')\n",
    "    alignment_ppos = extractTup(alignment_df, tup_i='pos') # the phrase part of speech\n",
    "    output_columns = ['id', 'fulltext', 'datatype', 'empty']+[str(i) for i in range(len(alignment_df.columns))]\n",
    "    output_data = []\n",
    "    row_length = len(output_columns)\n",
    "    for i in alignment_df.index:\n",
    "        fulltext = ' '.join([e for e in alignment_segment.loc[i].tolist() if len(e.strip())>0])\n",
    "#         ppos = [i, fulltext, 's-ppos', '']+[e for e in alignment_ppos.loc[i].tolist() if len(e.strip())>0]\n",
    "#         ppos = ppos + ['']*(len(output_columns)-len(ppos))\n",
    "#         output_data.append(ppos)\n",
    "        pos = [i, fulltext, 's-pos', '']+[([f'\\'{i}\\'' for i in e] if len(e)>0 else '') for e in alignment_pos.loc[i].tolist()]\n",
    "        pos = pos + ['']*(len(output_columns)-len(pos))\n",
    "        output_data.append(pos)\n",
    "        txt = [i, fulltext, 's-txt', '']+alignment_segment.loc[i].tolist()\n",
    "        txt = txt + ['']*(len(output_columns)-len(txt))\n",
    "        output_data.append(txt)\n",
    "    output_df = pd.DataFrame(\n",
    "        output_data, \n",
    "        columns=output_columns)\n",
    "    return output_df"
   ]
  },
  {
   "cell_type": "code",
   "execution_count": null,
   "id": "collect-thanks",
   "metadata": {},
   "outputs": [],
   "source": [
    "from IPython.display import display, HTML\n",
    "display(HTML(spreadsheetFormat(output_alignmentstate[-1]).to_html(index=False)))\n",
    "\n",
    "# extractTup(output_alignmentstate[-1], tup_i='segment')\n",
    "# spreadsheetFormat(output_alignmentstate[-1])"
   ]
  },
  {
   "cell_type": "markdown",
   "id": "freelance-fifth",
   "metadata": {},
   "source": [
    "# print score for individual search conditions"
   ]
  },
  {
   "cell_type": "code",
   "execution_count": null,
   "id": "accompanied-penny",
   "metadata": {},
   "outputs": [],
   "source": [
    "import pickle\n",
    "\n",
    "nameprefix = 'covtraceempty-1-2-'\n",
    "for align_name in ['a', 'b', 'c', 'd', 'e']:    \n",
    "    temp_search = pickle.load(open(f'temp/search_temp_search_{nameprefix}{align_name}.pkl', 'rb'))\n",
    "    output_alignmentstate, output_alignmentop, output_alignmentopset, output_alignmentopmode, output_alignmentscore, \\\n",
    "            output_alignmentscorecomponents, output_alignmentscoreraw, output_hyperparams = temp_search\n",
    "    for i in range(len(output_alignmentop)):\n",
    "        print(\n",
    "            f'{i:04d}',\n",
    "            '*' if output_alignmentscore[i]==max(output_alignmentscore) else ' ', \n",
    "            f'{output_alignmentscore[i]:.4f}', \n",
    "            f'{output_alignmentopmode[i]:10}',\n",
    "            f'performed: {output_alignmentop[i]}, total {len(output_alignmentopset[i])} valid op(s)'\n",
    "        )\n",
    "    print('===================================')\n",
    "    print('===================================')\n",
    "    print('===================================')"
   ]
  },
  {
   "cell_type": "code",
   "execution_count": null,
   "id": "loaded-petroleum",
   "metadata": {},
   "outputs": [],
   "source": []
  }
 ],
 "metadata": {
  "kernelspec": {
   "display_name": "Python 3",
   "language": "python",
   "name": "python3"
  },
  "language_info": {
   "codemirror_mode": {
    "name": "ipython",
    "version": 3
   },
   "file_extension": ".py",
   "mimetype": "text/x-python",
   "name": "python",
   "nbconvert_exporter": "python",
   "pygments_lexer": "ipython3",
   "version": "3.8.5"
  }
 },
 "nbformat": 4,
 "nbformat_minor": 5
}
