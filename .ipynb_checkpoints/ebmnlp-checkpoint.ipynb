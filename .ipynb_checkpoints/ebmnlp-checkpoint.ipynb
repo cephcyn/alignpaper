{
 "cells": [
  {
   "cell_type": "code",
   "execution_count": null,
   "metadata": {},
   "outputs": [],
   "source": [
    "import pandas as pd\n",
    "pd.set_option(\"display.max_rows\", None)"
   ]
  },
  {
   "cell_type": "code",
   "execution_count": null,
   "metadata": {},
   "outputs": [],
   "source": [
    "import os\n",
    "\n",
    "directory = f'data/ebm_nlp_2_00/annotations/aggregated/hierarchical_labels/interventions/test/crowd'\n",
    "directory = f'data/ebm_nlp_2_00/annotations/aggregated/starting_spans/participants/test/crowd'\n",
    "directory = f'data/ebm_nlp_2_00/annotations/aggregated/starting_spans/outcomes/test/crowd'\n",
    "directory = f'data/ebm_nlp_2_00/annotations/aggregated/starting_spans/interventions/train/crowd'\n",
    "directory = f'data/ebm_nlp_2_00/annotations/aggregated/starting_spans/interventions/test/crowd'\n",
    "directory = f'data/ebm_nlp_2_00/annotations/aggregated/starting_spans/interventions/test/gold'\n",
    "for filename in os.scandir(directory):\n",
    "    print(filename.path)\n",
    "    # assume that the filepath does not contain .s except for the final extension...\n",
    "    print(filename.name.split('.')[0])"
   ]
  },
  {
   "cell_type": "code",
   "execution_count": null,
   "metadata": {},
   "outputs": [],
   "source": [
    "with open('data/ebm_nlp_2_00/annotations/aggregated/starting_spans/participants/test/gold/6989377.AGGREGATED.ann', 'r') as f:\n",
    "    ann_ss_participant = [s.strip() for s in f.readlines()]\n",
    "    \n",
    "with open('data/ebm_nlp_2_00/annotations/aggregated/starting_spans/interventions/test/gold/6989377.AGGREGATED.ann', 'r') as f:\n",
    "    ann_ss_intervention = [s.strip() for s in f.readlines()]\n",
    "\n",
    "with open('data/ebm_nlp_2_00/annotations/aggregated/starting_spans/outcomes/test/gold/6989377.AGGREGATED.ann', 'r') as f:\n",
    "    ann_ss_outcome = [s.strip() for s in f.readlines()]\n",
    "\n",
    "with open('data/ebm_nlp_2_00/annotations/aggregated/hierarchical_labels/participants/test/gold/6989377.AGGREGATED.ann', 'r') as f:\n",
    "    ann_hl_participant = [s.strip() for s in f.readlines()]\n",
    "    \n",
    "with open('data/ebm_nlp_2_00/annotations/aggregated/hierarchical_labels/interventions/test/gold/6989377.AGGREGATED.ann', 'r') as f:\n",
    "    ann_hl_intervention = [s.strip() for s in f.readlines()]\n",
    "\n",
    "with open('data/ebm_nlp_2_00/annotations/aggregated/hierarchical_labels/outcomes/test/gold/6989377.AGGREGATED.ann', 'r') as f:\n",
    "    ann_hl_outcome = [s.strip() for s in f.readlines()]"
   ]
  },
  {
   "cell_type": "code",
   "execution_count": null,
   "metadata": {},
   "outputs": [],
   "source": [
    "# For sentence tokenization\n",
    "from nltk import tokenize"
   ]
  },
  {
   "cell_type": "code",
   "execution_count": null,
   "metadata": {},
   "outputs": [],
   "source": [
    "import pandas as pd\n",
    "\n",
    "with open('data/ebm_nlp_2_00/documents/6989377.txt', 'r') as f:\n",
    "    alltext = ''.join(f.readlines())\n",
    "    sentences = tokenize.sent_tokenize(alltext)\n",
    "    df = pd.DataFrame({\n",
    "        'URL': ['https://pubmed.ncbi.nlm.nih.gov/6989377'] * (2),\n",
    "        'ID': [6989377] * (2),\n",
    "        'Type': ['Title', 'Abstract'],\n",
    "        'Text': [sentences[0], ' '.join(sentences[1:])]\n",
    "    })\n",
    "\n",
    "df"
   ]
  },
  {
   "cell_type": "code",
   "execution_count": null,
   "metadata": {
    "scrolled": true
   },
   "outputs": [],
   "source": [
    "# Split the full-abstract CSV into a CSV containing individual sentences instead\n",
    "def sentence_tokenize(group):\n",
    "    row = group.reset_index(drop=True).loc[0]\n",
    "    sentences = tokenize.sent_tokenize(row['Text'])\n",
    "    return pd.DataFrame({\n",
    "        'URL': [row['URL']] * (len(sentences)),\n",
    "        'ID': [row['ID']] * (len(sentences)),\n",
    "        'Type': [row['Type']] * (len(sentences)),\n",
    "        'Index': list(range(len(sentences))),\n",
    "        'Text': sentences\n",
    "    })\n",
    "\n",
    "df_sentences = df.groupby(['ID', 'Type'], group_keys=False).apply(\n",
    "    lambda row: sentence_tokenize(row)\n",
    ").reset_index(drop=True)\n",
    "\n",
    "df_sentences"
   ]
  },
  {
   "cell_type": "code",
   "execution_count": null,
   "metadata": {},
   "outputs": [],
   "source": [
    "import pandas as pd\n",
    "\n",
    "with open('data/ebm_nlp_2_00/documents/6989377.tokens', 'r') as f:\n",
    "    tokens = [s.strip() for s in f.readlines()]\n",
    "    \n",
    "with open('data/ebm_nlp_2_00/documents/6989377.pos', 'r') as f:\n",
    "    pos = [s.strip() for s in f.readlines()]\n",
    "\n",
    "# print(list(zip(tokens, ann_ss_participant, ann_hl_participant)))\n",
    "print(list(zip(tokens, ann_ss_intervention, ann_hl_intervention)))\n",
    "# print(list(zip(tokens, ann_ss_outcome, ann_hl_outcome)))"
   ]
  },
  {
   "cell_type": "code",
   "execution_count": null,
   "metadata": {},
   "outputs": [],
   "source": [
    "def extract_labeled_terms(tokens, tags):\n",
    "    in_tag = False\n",
    "    hits = []\n",
    "    sofar = []\n",
    "    for i in range(len(tokens)):\n",
    "        if int(tags[i]) != 0:\n",
    "            if not in_tag:\n",
    "                in_tag = True\n",
    "            sofar.append(tokens[i])\n",
    "        elif in_tag:\n",
    "            in_tag = False\n",
    "            hits.append(sofar)\n",
    "            sofar = []\n",
    "    return hits\n",
    "        \n",
    "extract_labeled_terms(tokens, ann_ss_intervention)"
   ]
  },
  {
   "cell_type": "code",
   "execution_count": null,
   "metadata": {},
   "outputs": [],
   "source": []
  }
 ],
 "metadata": {
  "kernelspec": {
   "display_name": "Python 3",
   "language": "python",
   "name": "python3"
  },
  "language_info": {
   "codemirror_mode": {
    "name": "ipython",
    "version": 3
   },
   "file_extension": ".py",
   "mimetype": "text/x-python",
   "name": "python",
   "nbconvert_exporter": "python",
   "pygments_lexer": "ipython3",
   "version": "3.8.3"
  }
 },
 "nbformat": 4,
 "nbformat_minor": 4
}
